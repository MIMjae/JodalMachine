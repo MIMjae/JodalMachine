{
 "cells": [
  {
   "cell_type": "markdown",
   "id": "855b3051",
   "metadata": {},
   "source": [
    "## 조달청 나라장터 종합쇼핑몰 추천시스템 개발_API 구현"
   ]
  },
  {
   "cell_type": "markdown",
   "id": "603c9542",
   "metadata": {},
   "source": [
    "### 01. 조달정보개방포털 '종합쇼핑몰 품목 등록 내역'"
   ]
  },
  {
   "cell_type": "code",
   "execution_count": 7,
   "id": "f14e1063",
   "metadata": {},
   "outputs": [
    {
     "name": "stdout",
     "output_type": "stream",
     "text": [
      "<class 'dict'>\n"
     ]
    }
   ],
   "source": [
    "from urllib.request import urlopen\n",
    "from urllib.parse import urlencode, unquote, quote_plus\n",
    "import urllib\n",
    "import requests\n",
    "import pandas as pd\n",
    "import xmltodict\n",
    "import json\n",
    "\n",
    "key='hnpcDKStTuq1euifHeyFy05Zc7DhedODjjRXadm%2BbbG4%2Fs6m0wWUps1xCOg1L%2BacMTuaWWNX658YYydKvWrS8w%3D%3D'\n",
    "url = f'http://apis.data.go.kr/1230000/ShoppingMallPrdctInfoService04/getDlvrReqDtlInfoList?serviceKey={key}&'\n",
    "\n",
    "queryParams = urlencode({ quote_plus('pageNo') : 1, \n",
    "                          quote_plus('numOfRows') : 999, # 최대트래픽 수 제한으로 인한 최대 열 개수 설정\n",
    "                          quote_plus('type') : 'xml',\n",
    "                          quote_plus('inqryDiv') : 1,\n",
    "                          quote_plus('inqryBgnDate') : '20220103',\n",
    "                          quote_plus('inqryEndDate') : '20220203', # 데이터 수집 기간 한달로 설정\n",
    "                          quote_plus('dtilPrdctClsfcNoNm') : '교구'}) \n",
    "url2 = url + queryParams\n",
    "\n",
    "response = urlopen(url2)\n",
    "\n",
    "results = response.read().decode(\"utf-8\")\n",
    "results_to_json = xmltodict.parse(results)\n",
    "data = json.loads(json.dumps(results_to_json))\n",
    "print(type(data))   # dic\n",
    "# print(data)"
   ]
  },
  {
   "cell_type": "code",
   "execution_count": 8,
   "id": "2414de13",
   "metadata": {},
   "outputs": [],
   "source": [
    "history = data['response']['body']['items']['item']\n",
    "\n",
    "#추가하고 싶은 리스트 생성\n",
    "col_1=[]\n",
    "col_2=[]\n",
    "col_3=[]\n",
    "col_4=[]\n",
    "col_5=[]\n",
    "col_6=[]\n",
    "\n",
    "for i in history:\n",
    "    try:\n",
    "        col_1.append(i[\"dtilPrdctClsfcNoNm\"]) # 세부품명\n",
    "        col_2.append(i[\"prdctIdntNo\"]) # 물품식별번호\n",
    "        col_3.append(i[\"prdctIdntNoNm\"]) # 품목\n",
    "        col_4.append(i[\"fnlDlvrReqYn\"]) # 최종납품등록여부\n",
    "        col_5.append(i[\"dminsttCd\"]) # 수요기관코드\n",
    "        col_6.append(i[\"dminsttNm\"]) # 수요기관명\n",
    "    except:\n",
    "        continue   "
   ]
  },
  {
   "cell_type": "code",
   "execution_count": 9,
   "id": "4529c533",
   "metadata": {},
   "outputs": [
    {
     "name": "stdout",
     "output_type": "stream",
     "text": [
      "<class 'pandas.core.frame.DataFrame'>\n",
      "Int64Index: 470 entries, 0 to 125\n",
      "Data columns (total 6 columns):\n",
      " #   Column    Non-Null Count  Dtype \n",
      "---  ------    --------------  ----- \n",
      " 0   세부품명      470 non-null    object\n",
      " 1   물품식별번호    470 non-null    object\n",
      " 2   품목        470 non-null    object\n",
      " 3   최종납품등록여부  470 non-null    object\n",
      " 4   수요기관코드    470 non-null    object\n",
      " 5   수요기관명     470 non-null    object\n",
      "dtypes: object(6)\n",
      "memory usage: 25.7+ KB\n"
     ]
    }
   ],
   "source": [
    "history = pd.DataFrame([col_1,col_2,col_3,col_4,col_5,col_6]).T\n",
    "history.columns=['세부품명','물품식별번호','품목','최종납품등록여부','수요기관코드','수요기관명'] \n",
    "history = history.sort_values(by='세부품명', ascending=True)\n",
    "\n",
    "# history.head()\n",
    "history.info()\n",
    "# df.describe()\n",
    "\n",
    "# csv 파일 생성\n",
    "history.to_csv('shopping_history.csv')"
   ]
  },
  {
   "cell_type": "markdown",
   "id": "41dfbc4e",
   "metadata": {},
   "source": [
    "### 02. 조달정보개방포털 '종합쇼핑몰 납품요구 상세내역'"
   ]
  },
  {
   "cell_type": "code",
   "execution_count": 10,
   "id": "b1ab28cb",
   "metadata": {},
   "outputs": [
    {
     "name": "stdout",
     "output_type": "stream",
     "text": [
      "<class 'dict'>\n"
     ]
    }
   ],
   "source": [
    "key='hnpcDKStTuq1euifHeyFy05Zc7DhedODjjRXadm%2BbbG4%2Fs6m0wWUps1xCOg1L%2BacMTuaWWNX658YYydKvWrS8w%3D%3D'\n",
    "url = f'http://apis.data.go.kr/1230000/ShoppingMallPrdctInfoService04/getShoppingMallPrdctInfoList?serviceKey={key}&'\n",
    "queryParams = urlencode({ quote_plus('pageNo') : 1, \n",
    "                          quote_plus('numOfRows') : 100, # 개인 장비의 저장공간 한계로 인한 열 개수 설정\n",
    "                          quote_plus('type') : 'xml',\n",
    "                          quote_plus('inqryDiv') : 1,\n",
    "                          quote_plus('inqryBgnDate') : '20210203',\n",
    "                          quote_plus('inqryEndDate') : '20220203', # 데이터 수집 기간 1년으로 설정\n",
    "                          quote_plus('dtilPrdctClsfcNoNm') : '교구',\n",
    "                          quote_plus('regtCncelYn') : 'N'})  # 현재 등록된 상품 확인을 위함\n",
    "url2 = url + queryParams\n",
    "\n",
    "response = urlopen(url2)\n",
    "\n",
    "results = response.read().decode(\"utf-8\")\n",
    "results_to_json = xmltodict.parse(results)\n",
    "data = json.loads(json.dumps(results_to_json))\n",
    "print(type(data))   # dic\n",
    "# print(data)"
   ]
  },
  {
   "cell_type": "code",
   "execution_count": 11,
   "id": "eae9f38f",
   "metadata": {},
   "outputs": [],
   "source": [
    "features = data['response']['body']['items']['item']\n",
    "\n",
    "#추가하고 싶은 리스트 생성\n",
    "col_1=[]\n",
    "col_2=[]\n",
    "col_3=[]\n",
    "col_4=[]\n",
    "\n",
    "for i in features:\n",
    "    try:\n",
    "        col_1.append(i[\"dtilPrdctClsfcNoNm\"]) # 세부품명\n",
    "        col_2.append(i[\"prdctIdntNo\"]) # 물품식별번호\n",
    "        col_3.append(i[\"prdctSpecNm\"]) # 품목\n",
    "        col_4.append(i[\"prodctCertList\"]) # 제품인증목록\n",
    "\n",
    "    except:\n",
    "        continue   "
   ]
  },
  {
   "cell_type": "code",
   "execution_count": 12,
   "id": "a6f59526",
   "metadata": {},
   "outputs": [],
   "source": [
    "features = pd.DataFrame([col_1,col_2,col_3,col_4]).T\n",
    "features.columns=['세부품명','물품식별번호','품목','제품인증목록'] \n",
    "features = features.sort_values(by='세부품명', ascending=True)\n",
    "\n",
    "features.head()\n",
    "# df.info()\n",
    "# df.describe()\n",
    "\n",
    "# csv 파일 생성\n",
    "features.to_csv('shopping_feature.csv')"
   ]
  },
  {
   "cell_type": "code",
   "execution_count": null,
   "id": "afe95390",
   "metadata": {},
   "outputs": [],
   "source": []
  }
 ],
 "metadata": {
  "kernelspec": {
   "display_name": "Python 3 (ipykernel)",
   "language": "python",
   "name": "python3"
  },
  "language_info": {
   "codemirror_mode": {
    "name": "ipython",
    "version": 3
   },
   "file_extension": ".py",
   "mimetype": "text/x-python",
   "name": "python",
   "nbconvert_exporter": "python",
   "pygments_lexer": "ipython3",
   "version": "3.8.11"
  }
 },
 "nbformat": 4,
 "nbformat_minor": 5
}
